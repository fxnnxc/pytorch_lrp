{
 "cells": [
  {
   "cell_type": "code",
   "execution_count": 1,
   "metadata": {},
   "outputs": [
    {
     "name": "stderr",
     "output_type": "stream",
     "text": [
      "/home/bumjin/anaconda3/envs/deeping/lib/python3.8/site-packages/tqdm/auto.py:22: TqdmWarning: IProgress not found. Please update jupyter and ipywidgets. See https://ipywidgets.readthedocs.io/en/stable/user_install.html\n",
      "  from .autonotebook import tqdm as notebook_tqdm\n"
     ]
    },
    {
     "name": "stdout",
     "output_type": "stream",
     "text": [
      "Downloading https://www.cs.toronto.edu/~kriz/cifar-10-python.tar.gz to untracked/cifar-10-python.tar.gz\n"
     ]
    },
    {
     "name": "stderr",
     "output_type": "stream",
     "text": [
      "170499072it [03:33, 798627.33it/s]                                \n"
     ]
    },
    {
     "name": "stdout",
     "output_type": "stream",
     "text": [
      "Extracting untracked/cifar-10-python.tar.gz to untracked\n"
     ]
    }
   ],
   "source": [
    "import torch \n",
    "import torch.nn as nn\n",
    "import torchvision \n",
    "\n",
    "device = \"cuda\"\n",
    "testset = torchvision.datasets.CIFAR10(root = \"untracked\",\n",
    "                                        train = False, \n",
    "                                        download=True)"
   ]
  },
  {
   "cell_type": "code",
   "execution_count": 2,
   "metadata": {},
   "outputs": [],
   "source": [
    "from lrp_module import LRP\n",
    "\n",
    "# --- model ---\n",
    "model = torchvision.models.vgg16(pretrained=True)\n",
    "model.to(device)\n",
    "\n",
    "# ---- manual ---\n",
    "layers = [] \n",
    "rules = []\n",
    "for layer in model.features:\n",
    "    layers.append(layer)\n",
    "    rules.append({\"z_plus\":True, \"epsilon\":1e-7})\n",
    "\n",
    "layers.append(model.avgpool)\n",
    "rules.append({\"z_plus\":True, \"epsilon\":1e-7})\n",
    "layers.append(nn.Flatten(start_dim=1))\n",
    "rules.append({\"z_plus\":True, \"epsilon\":1e-7})\n",
    "\n",
    "for layer in model.classifier:\n",
    "    layers.append(layer)\n",
    "    rules.append({\"z_plus\":False, \"epsilon\":1e-7})\n",
    "\n",
    "\n",
    "# ---- LRP object ---\n",
    "# ImageNet\n",
    "MEAN = [0.485, 0.456, 0.406]\n",
    "STD = [0.229, 0.224, 0.225] \n",
    "mean = torch.FloatTensor(MEAN).reshape(1,-1,1,1).cuda()\n",
    "std = torch.FloatTensor(STD).reshape(1,-1,1,1).cuda()\n",
    "\n",
    "lrp_model = LRP(layers, rules, device=device, mean=mean, std=std)\n"
   ]
  },
  {
   "cell_type": "code",
   "execution_count": 14,
   "metadata": {},
   "outputs": [
    {
     "data": {
      "image/png": "[encoded data removed]",
      "text/plain": [
       "<PIL.Image.Image image mode=RGB size=32x32>"
      ]
     },
     "execution_count": 14,
     "metadata": {},
     "output_type": "execute_result"
    }
   ],
   "source": [
    "img = testset[0][0]\n",
    "img"
   ]
  },
  {
   "cell_type": "code",
   "execution_count": 15,
   "metadata": {},
   "outputs": [],
   "source": [
    "from torchvision import transforms\n",
    "preprocess = transforms.Compose([\n",
    "                            # transforms.ToPILImage(),\n",
    "                            transforms.ToTensor(),\n",
    "                            transforms.Normalize(mean=MEAN, std=STD),    \n",
    "                        ])\n",
    "x = preprocess(img).unsqueeze(0)\n",
    "output = lrp_model.forward(x.to(device))"
   ]
  },
  {
   "cell_type": "code",
   "execution_count": 16,
   "metadata": {},
   "outputs": [
    {
     "data": {
      "text/plain": [
       "dict_keys(['R', 'all_relevnaces', 'activations', 'prediction_outcome'])"
      ]
     },
     "execution_count": 16,
     "metadata": {},
     "output_type": "execute_result"
    }
   ],
   "source": [
    "output.keys()"
   ]
  },
  {
   "cell_type": "code",
   "execution_count": 20,
   "metadata": {},
   "outputs": [
    {
     "name": "stderr",
     "output_type": "stream",
     "text": [
      "Clipping input data to the valid range for imshow with RGB data ([0..1] for floats or [0..255] for integers).\n"
     ]
    },
    {
     "name": "stdout",
     "output_type": "stream",
     "text": [
      "torch.Size([1, 3, 32, 32])\n"
     ]
    },
    {
     "data": {
      "text/plain": [
       "<matplotlib.colorbar.Colorbar at 0x7fa379f48f10>"
      ]
     },
     "execution_count": 20,
     "metadata": {},
     "output_type": "execute_result"
    },
    {
     "data": {
      "image/png": "[encoded data removed]",
      "text/plain": [
       "<Figure size 432x288 with 1 Axes>"
      ]
     },
     "metadata": {
      "needs_background": "light"
     },
     "output_type": "display_data"
    },
    {
     "data": {
      "image/png": "[encoded data removed]",
      "text/plain": [
       "<Figure size 432x288 with 2 Axes>"
      ]
     },
     "metadata": {
      "needs_background": "light"
     },
     "output_type": "display_data"
    }
   ],
   "source": [
    "import matplotlib.pyplot as plt \n",
    "print(output['R'].size())\n",
    "plt.figure()\n",
    "plt.imshow(x.squeeze(0).permute(1,2,0))\n",
    "plt.figure()\n",
    "plt.imshow(output['R'].squeeze(0).sum(0).cpu().detach(), cmap=\"seismic\")\n",
    "plt.colorbar()"
   ]
  }
 ],
 "metadata": {
  "kernelspec": {
   "display_name": "Python 3.8.12 ('deeping')",
   "language": "python",
   "name": "python3"
  },
  "language_info": {
   "codemirror_mode": {
    "name": "ipython",
    "version": 3
   },
   "file_extension": ".py",
   "mimetype": "text/x-python",
   "name": "python",
   "nbconvert_exporter": "python",
   "pygments_lexer": "ipython3",
   "version": "3.8.12"
  },
  "orig_nbformat": 4,
  "vscode": {
   "interpreter": {
    "hash": "cbc4c7136b33e244a0926e55a8aa1e57f1c839903e331a380cefab98f3f0f979"
   }
  }
 },
 "nbformat": 4,
 "nbformat_minor": 2
}
